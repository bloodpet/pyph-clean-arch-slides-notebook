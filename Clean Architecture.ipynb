{
 "cells": [
  {
   "cell_type": "markdown",
   "metadata": {
    "slideshow": {
     "slide_type": "slide"
    }
   },
   "source": [
    "# Clean Architecture on Python"
   ]
  },
  {
   "cell_type": "markdown",
   "metadata": {
    "slideshow": {
     "slide_type": "slide"
    }
   },
   "source": [
    "# Advantages\n",
    " - Independent of Frameworks\n",
    " - Testable\n",
    " - Independent of UI\n",
    " - Independent of Database\n",
    " - Independent of any external agency"
   ]
  },
  {
   "cell_type": "markdown",
   "metadata": {
    "slideshow": {
     "slide_type": "notes"
    }
   },
   "source": [
    "Each of these architectures produce systems that are:\n",
    " - Independent of Frameworks. The architecture does not depend on the existence of some library of feature laden software. This allows you to use such frameworks as tools, rather than having to cram your system into their limited constraints.\n",
    " - Testable. The business rules can be tested without the UI, Database, Web Server, or any other external element.\n",
    " - Independent of UI. The UI can change easily, without changing the rest of the system. A Web UI could be replaced with a console UI, for example, without changing the business rules.\n",
    " - Independent of Database. You can swap out Oracle or SQL Server, for Mongo, BigTable, CouchDB, or something else. Your business rules are not bound to the database.\n",
    " - Independent of any external agency. In fact your business rules simply don’t know anything at all about the outside world."
   ]
  },
  {
   "cell_type": "markdown",
   "metadata": {
    "slideshow": {
     "slide_type": "slide"
    }
   },
   "source": [
    "![Clean Architecture](CleanArchitecture.jpg)"
   ]
  },
  {
   "cell_type": "code",
   "execution_count": 5,
   "metadata": {
    "slideshow": {
     "slide_type": "slide"
    }
   },
   "outputs": [],
   "source": [
    "# Don't do this!\n",
    "import json\n",
    "import requests\n",
    "from urllib.parse import urlencode\n",
    "\n",
    "def convert(base, dest, amount, date_obj=None):\n",
    "    if date_obj is None:\n",
    "        date_str = 'latest'\n",
    "    else:\n",
    "        date_str = date_obj.strftime('%F')\n",
    "    payload = {'base': base, 'rtype': 'fpy', 'symbols': dest}\n",
    "    url = f'https://api.ratesapi.io/api/{date_str}'\n",
    "    response = requests.get(url, params=payload)  # I/O\n",
    "    json_data = response.json()  # I/O\n",
    "    rates = json_data['rates']\n",
    "    try:\n",
    "        rate = rates[dest]\n",
    "    except KeyError:\n",
    "        raise NotImplementedError(f'{dest} not supported')\n",
    "    converted_amount = rate * amount\n",
    "    return converted_amount"
   ]
  },
  {
   "cell_type": "code",
   "execution_count": 5,
   "metadata": {
    "slideshow": {
     "slide_type": "slide"
    }
   },
   "outputs": [],
   "source": [
    "# Let's hide the I/O\n",
    "import json\n",
    "import requests\n",
    "from urllib.parse import urlencode\n",
    "\n",
    "def call_json_api(url, payload):\n",
    "    response = requests.get(url, params=payload)  # I/O\n",
    "    return response.json()  # I/O\n",
    "\n",
    "def convert(base, dest, amount, date_obj=None):\n",
    "    if date_obj is None:\n",
    "        date_str = 'latest'\n",
    "    else:\n",
    "        date_str = date_obj.strftime('%F')\n",
    "    payload = {'base': base, 'rtype': 'fpy', 'symbols': dest}\n",
    "    url = f'https://api.ratesapi.io/api/{date_str}'\n",
    "    json_data = call_json_api(url, payload)\n",
    "    rates = json_data['rates']\n",
    "    try:\n",
    "        rate = rates[dest]\n",
    "    except KeyError:\n",
    "        raise NotImplementedError(f'{dest} not supported')\n",
    "    converted_amount = rate * amount\n",
    "    return converted_amount"
   ]
  },
  {
   "cell_type": "code",
   "execution_count": 7,
   "metadata": {
    "slideshow": {
     "slide_type": "slide"
    }
   },
   "outputs": [],
   "source": [
    "# Decouple it instead\n",
    "import json\n",
    "import requests\n",
    "from urllib.parse import urlencode\n",
    "\n",
    "def build_url(date_obj):\n",
    "    if date_obj is None:\n",
    "        date_str = 'latest'\n",
    "    else:\n",
    "        date_str = date_obj.strftime('%F')\n",
    "    return f'https://api.ratesapi.io/api/{date_str}'\n",
    "\n",
    "def construct_payload(base, dest):\n",
    "    return {'base': base, 'rtype': 'fpy', 'symbols': dest}\n",
    "\n",
    "def get_converted_amount(json_data):\n",
    "    rates = json_data['rates']\n",
    "    try:\n",
    "        rate = rates[dest]\n",
    "    except KeyError:\n",
    "        raise NotImplementedError(f'{dest} not supported')\n",
    "    return rate * amount\n"
   ]
  },
  {
   "cell_type": "code",
   "execution_count": 7,
   "metadata": {
    "slideshow": {
     "slide_type": "subslide"
    }
   },
   "outputs": [],
   "source": [
    "def convert(base, dest, amount, date_obj=None):\n",
    "    date_str = get_date_str(date_obj)\n",
    "    payload = construct_payload(base, dest)\n",
    "    response = requests.get(url, params=payload)  # I/O\n",
    "    json_data = response.json()  # I/O\n",
    "    return get_converted_amount(json_data)"
   ]
  },
  {
   "cell_type": "markdown",
   "metadata": {
    "slideshow": {
     "slide_type": "slide"
    }
   },
   "source": [
    "![request-report-1](request-report-1.png)"
   ]
  },
  {
   "cell_type": "markdown",
   "metadata": {
    "slideshow": {
     "slide_type": "slide"
    }
   },
   "source": [
    "### Original Code\n",
    " - `request_report` -- all in one function\n",
    "     - Transactions\n",
    "         - Wait for Report from MWS\n",
    "         - Retrieve\n",
    "         - Parse\n",
    "     - Adjustments\n",
    "         - Request\n",
    "         - Wait\n",
    "         - Retrieve\n",
    "         - Parse\n",
    "     - Reimbursements\n",
    "         - Request\n",
    "         - Wait\n",
    "         - Retrieve\n",
    "     - Collate Adjustments & Reimbursements\n",
    "         - Sort per SKU\n",
    "         - Deduct Reimbursements from Adjustments\n",
    "         - List SKUs that need reimbursements\n",
    "     - For each SKU, get prices from Transactions\n",
    "     "
   ]
  },
  {
   "cell_type": "markdown",
   "metadata": {
    "slideshow": {
     "slide_type": "slide"
    }
   },
   "source": [
    "### First rewrite\n",
    "- `ReportBaseClass`\n",
    "    - request\n",
    "    - wait_and_retrieve\n",
    "    - parse\n",
    "- `request_report`\n",
    "    - call `wait_and_retrieve` and `parse` from `TransactionReport`\n",
    "    - call `request`, `wait_and_retrieve` and `parse` from `ReimbursementReport` and `AdjustmentReport`\n",
    "    - collate & get prices like before"
   ]
  },
  {
   "cell_type": "markdown",
   "metadata": {
    "slideshow": {
     "slide_type": "notes"
    }
   },
   "source": [
    "References:\n",
    " - https://blog.cleancoder.com/uncle-bob/2012/08/13/the-clean-architecture.html\n",
    " - https://github.com/python-leap/book\n",
    " - https://www.blog.pythonlibrary.org/2018/09/25/creating-presentations-with-jupyter-notebook/"
   ]
  }
 ],
 "metadata": {
  "celltoolbar": "Slideshow",
  "kernelspec": {
   "display_name": "Python 3",
   "language": "python",
   "name": "python3"
  },
  "language_info": {
   "codemirror_mode": {
    "name": "ipython",
    "version": 3
   },
   "file_extension": ".py",
   "mimetype": "text/x-python",
   "name": "python",
   "nbconvert_exporter": "python",
   "pygments_lexer": "ipython3",
   "version": "3.6.8"
  }
 },
 "nbformat": 4,
 "nbformat_minor": 2
}
